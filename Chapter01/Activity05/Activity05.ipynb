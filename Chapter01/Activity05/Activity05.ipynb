{
 "cells": [
  {
   "cell_type": "code",
   "execution_count": 1,
   "metadata": {},
   "outputs": [
    {
     "name": "stdout",
     "output_type": "stream",
     "text": [
      "What is your name?\n"
     ]
    }
   ],
   "source": [
    "print('What is your name?')"
   ]
  },
  {
   "cell_type": "code",
   "execution_count": 2,
   "metadata": {},
   "outputs": [
    {
     "name": "stdout",
     "output_type": "stream",
     "text": [
      "Corey\n",
      "Fascinating. Corey is my name too.\n"
     ]
    }
   ],
   "source": [
    "name = input() \n",
    "print('Fascinating.', name, 'is my name too.') "
   ]
  },
  {
   "cell_type": "code",
   "execution_count": 3,
   "metadata": {},
   "outputs": [
    {
     "name": "stdout",
     "output_type": "stream",
     "text": [
      "Have you thought about black holes today?\n"
     ]
    }
   ],
   "source": [
    "print('Have you thought about black holes today?')"
   ]
  },
  {
   "cell_type": "code",
   "execution_count": 4,
   "metadata": {},
   "outputs": [
    {
     "name": "stdout",
     "output_type": "stream",
     "text": [
      "Yes\n",
      "I am so glad you said Yes . I was thinking the same thing.\n"
     ]
    }
   ],
   "source": [
    "yes_no = input() \n",
    "print('I am so glad you said', yes_no, '. I was thinking the same thing.')"
   ]
  },
  {
   "cell_type": "code",
   "execution_count": 5,
   "metadata": {},
   "outputs": [
    {
     "name": "stdout",
     "output_type": "stream",
     "text": [
      "We're kindred spirits, Corey . Talk later.\n"
     ]
    }
   ],
   "source": [
    "print('We\\'re kindred spirits,', name, '. Talk later.')"
   ]
  },
  {
   "cell_type": "code",
   "execution_count": 1,
   "metadata": {},
   "outputs": [
    {
     "name": "stdout",
     "output_type": "stream",
     "text": [
      "How intelligent are you? 0 is no intelligence. And 10 is a genius\n",
      "8\n",
      "Are you human by chance? Wait. Don't answer that.\n",
      "How human are you? 0 is not at all and 10 is human all the way.\n",
      "8\n",
      "I think this courtship is over.\n"
     ]
    }
   ],
   "source": [
    "print('How intelligent are you? 0 is no intelligence. And 10 is a genius') \n",
    "smarts = input()\n",
    "smarts = int(smarts)\n",
    "if smarts <= 3:\n",
    "   print('I don\\'t believe you.')\n",
    "   print('How bad of a day are you having? 0 is the worst, and 10 is the best.')\n",
    "   day = input()\n",
    "   day = int(day)\n",
    "   if day <= 5:\n",
    "       print('If I was human, I would give you a hug.')\n",
    "   else:\n",
    "       print('Maybe I should try your approach.')\n",
    "elif smarts <= 6:\n",
    "   print('I think you\\'re actually smarter.')\n",
    "   print('How much time do you spend online? 0 is none and 10 is 24 hours a day.')\n",
    "   hours = input()\n",
    "   hours = int(hours)\n",
    "   if hours <= 4:\n",
    "       print('That\\'s the problem.')\n",
    "   else:\n",
    "      print('And I thought it was only me.')\n",
    "elif smarts <= 8:\n",
    "   print('Are you human by chance? Wait. Don\\'t answer that.')\n",
    "   print('How human are you? 0 is not at all and 10 is human all the way.')\n",
    "   human = input()\n",
    "   human = int(human)\n",
    "   if human <= 5:\n",
    "       print('I knew it.')\n",
    "   else:\n",
    "       print('I think this courtship is over.')\n",
    "else:\n",
    "   print('I see... How many operating systems do you run?')\n",
    "   os = input()\n",
    "   os = int(os)\n",
    "   if os <= 2:\n",
    "      print('Good thing you\\'re taking this course.')\n",
    "   else:\n",
    "      print('What is this? A competition?')"
   ]
  },
  {
   "cell_type": "code",
   "execution_count": null,
   "metadata": {},
   "outputs": [],
   "source": []
  }
 ],
 "metadata": {
  "kernelspec": {
   "display_name": "Python 3",
   "language": "python",
   "name": "python3"
  },
  "language_info": {
   "codemirror_mode": {
    "name": "ipython",
    "version": 3
   },
   "file_extension": ".py",
   "mimetype": "text/x-python",
   "name": "python",
   "nbconvert_exporter": "python",
   "pygments_lexer": "ipython3",
   "version": "3.8.8"
  }
 },
 "nbformat": 4,
 "nbformat_minor": 2
}
