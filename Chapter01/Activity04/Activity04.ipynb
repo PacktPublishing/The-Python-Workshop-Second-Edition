{
 "cells": [
  {
   "cell_type": "code",
   "execution_count": 1,
   "metadata": {},
   "outputs": [
    {
     "name": "stdout",
     "output_type": "stream",
     "text": [
      "The Least Common Multiple of 24 and 36 is 72 .\n"
     ]
    }
   ],
   "source": [
    "# Find the Least Common Multiple of Two Divisors\n",
    "counting = True\n",
    "first_divisor = 24\n",
    "second_divisor = 36\n",
    "i = 1\n",
    "while counting:\n",
    "    if i % first_divisor == 0 and i % second_divisor == 0:\n",
    "        print('The Least Common Multiple of', first_divisor, 'and', second_divisor, 'is', i, '.')\n",
    "        break\n",
    "    i += 1"
   ]
  },
  {
   "cell_type": "code",
   "execution_count": null,
   "metadata": {},
   "outputs": [],
   "source": []
  }
 ],
 "metadata": {
  "kernelspec": {
   "display_name": "Python 3",
   "language": "python",
   "name": "python3"
  },
  "language_info": {
   "codemirror_mode": {
    "name": "ipython",
    "version": 3
   },
   "file_extension": ".py",
   "mimetype": "text/x-python",
   "name": "python",
   "nbconvert_exporter": "python",
   "pygments_lexer": "ipython3",
   "version": "3.7.4"
  }
 },
 "nbformat": 4,
 "nbformat_minor": 2
}
