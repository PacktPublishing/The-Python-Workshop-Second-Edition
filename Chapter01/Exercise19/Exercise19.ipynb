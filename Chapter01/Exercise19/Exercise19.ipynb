{
 "cells": [
  {
   "cell_type": "code",
   "execution_count": 2,
   "metadata": {},
   "outputs": [
    {
     "name": "stdout",
     "output_type": "stream",
     "text": [
      "A one bedroom in the Bay Area is listed at $599,000\n",
      "Enter your first offer on the house.\n",
      "600000\n",
      "Enter your best offer on the house.\n",
      "690000\n",
      "How much more do you want to offer each time?\n",
      "10000\n",
      "We're sorry, you're offer of 600000 has not been accepted.\n",
      "We're sorry, you're offer of 610000 has not been accepted.\n",
      "We're sorry, you're offer of 620000 has not been accepted.\n",
      "We're sorry, you're offer of 630000 has not been accepted.\n",
      "We're sorry, you're offer of 640000 has not been accepted.\n",
      "Your offer of 650000 has been accepted!\n"
     ]
    }
   ],
   "source": [
    "print('A one bedroom in the Bay Area is listed at $599,000')\n",
    "print('Enter your first offer on the house.')\n",
    "offer = abs(int(input()))\n",
    "print('Enter your best offer on the house.')\n",
    "best = abs(int(input()))\n",
    "print('How much more do you want to offer each time?')\n",
    "increment = abs(int(input()))\n",
    "offer_accepted = False\n",
    "while offer <= best:  \n",
    "    if offer >= 650000:\n",
    "        offer_accepted = True\n",
    "        print('Your offer of', offer, 'has been accepted!')\n",
    "        break\n",
    "    print('We\\'re sorry, you\\'re offer of', offer, 'has not been accepted.' )\n",
    "    offer += increment\n"
   ]
  },
  {
   "cell_type": "code",
   "execution_count": null,
   "metadata": {},
   "outputs": [],
   "source": []
  }
 ],
 "metadata": {
  "kernelspec": {
   "display_name": "Python 3",
   "language": "python",
   "name": "python3"
  },
  "language_info": {
   "codemirror_mode": {
    "name": "ipython",
    "version": 3
   },
   "file_extension": ".py",
   "mimetype": "text/x-python",
   "name": "python",
   "nbconvert_exporter": "python",
   "pygments_lexer": "ipython3",
   "version": "3.8.8"
  }
 },
 "nbformat": 4,
 "nbformat_minor": 2
}
