{
 "cells": [
  {
   "cell_type": "markdown",
   "id": "c2035e25",
   "metadata": {},
   "source": [
    "# Activity 27"
   ]
  },
  {
   "cell_type": "markdown",
   "id": "bafc16e9",
   "metadata": {},
   "source": [
    "The solution for this activity has been stored online at the following Colab Notebook: https://colab.research.google.com/drive/13uuqqXUhLrZ2N_Wj2KAFej8KSoVXZA7C?usp=sharing"
   ]
  }
 ],
 "metadata": {
  "kernelspec": {
   "display_name": "Python 3",
   "language": "python",
   "name": "python3"
  },
  "language_info": {
   "codemirror_mode": {
    "name": "ipython",
    "version": 3
   },
   "file_extension": ".py",
   "mimetype": "text/x-python",
   "name": "python",
   "nbconvert_exporter": "python",
   "pygments_lexer": "ipython3",
   "version": "3.8.8"
  }
 },
 "nbformat": 4,
 "nbformat_minor": 5
}
