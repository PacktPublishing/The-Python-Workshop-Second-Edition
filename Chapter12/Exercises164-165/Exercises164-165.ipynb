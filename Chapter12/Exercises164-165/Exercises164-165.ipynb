{
 "cells": [
  {
   "cell_type": "markdown",
   "id": "5b2364d3",
   "metadata": {},
   "source": [
    "# Exercises 164-165"
   ]
  },
  {
   "cell_type": "markdown",
   "id": "ac0626c6",
   "metadata": {},
   "source": [
    "Exercises for this notebook are stored online in the following Colab Notebook where the data and libaries can be downloaded automatically: https://colab.research.google.com/drive/1OQ0vMLsEj18THVLjCKqH8Ue7ZmkA7-BE?usp=sharing"
   ]
  }
 ],
 "metadata": {
  "kernelspec": {
   "display_name": "Python 3",
   "language": "python",
   "name": "python3"
  },
  "language_info": {
   "codemirror_mode": {
    "name": "ipython",
    "version": 3
   },
   "file_extension": ".py",
   "mimetype": "text/x-python",
   "name": "python",
   "nbconvert_exporter": "python",
   "pygments_lexer": "ipython3",
   "version": "3.8.8"
  }
 },
 "nbformat": 4,
 "nbformat_minor": 5
}
