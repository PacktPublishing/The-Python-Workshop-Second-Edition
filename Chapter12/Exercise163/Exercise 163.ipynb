{
 "cells": [
  {
   "cell_type": "markdown",
   "id": "5620d254",
   "metadata": {},
   "source": [
    "# Classification "
   ]
  },
  {
   "cell_type": "markdown",
   "id": "b2b75b11",
   "metadata": {},
   "source": [
    "The Google Colab Notebook (online version) for this Jupyter Notebook may be found at the following url: https://colab.research.google.com/drive/1lhxPKvfVfWYh6ru0OTn4EapH0qo6NBLC?usp=sharing\n",
    "\n",
    "Note: There have been some difficulties installing keras on Mac Computers with the new M1 Chip. If you are having any difficulties, please use the link above."
   ]
  },
  {
   "cell_type": "markdown",
   "id": "64c34db5",
   "metadata": {},
   "source": [
    "## Exercise 163"
   ]
  },
  {
   "cell_type": "code",
   "execution_count": null,
   "id": "2fc1803d",
   "metadata": {},
   "outputs": [],
   "source": [
    "import pandas as pd \n",
    "from sklearn.model_selection import train_test_split \n",
    "from tensorflow import keras \n",
    "from keras.models import Sequential \n",
    "from keras.layers import Dense, Dropout \n",
    "from keras.callbacks import EarlyStopping "
   ]
  },
  {
   "cell_type": "code",
   "execution_count": null,
   "id": "b77516e2",
   "metadata": {},
   "outputs": [],
   "source": [
    "# Load Census Dataset (pd.get_dummies already applied)\n",
    "url = 'https://media.githubusercontent.com/media/PacktPublishing/Hands-On-Gradient-Boosting-with-XGBoost-and-Scikit-learn/master/Chapter08/census_cleaned.csv'\n",
    "df = pd.read_csv(url)\n",
    "X = df.iloc[:, :-1]\n",
    "y = df.iloc[:, -1]\n",
    "X_train, X_test, y_train, y_test = train_test_split(X, y, random_state=2)\n",
    "df.head()"
   ]
  },
  {
   "cell_type": "code",
   "execution_count": null,
   "id": "4c31a04c",
   "metadata": {},
   "outputs": [],
   "source": [
    "num_cols = X.shape[1]\n",
    "model = Sequential()\n",
    "model.add(Dense(8, input_shape=(num_cols,), activation='relu'))\n",
    "model.add(Dense(1, activation='sigmoid'))\n",
    "print(model.summary())\n",
    "\n",
    "model.compile(optimizer='adam', loss='binary_crossentropy', metrics=['accuracy'])\n",
    "early_stopping_monitor = EarlyStopping(patience=10)\n",
    "model.fit(X_train, y_train, epochs=10000, validation_split=0.2, callbacks=[early_stopping_monitor])\n",
    "model.evaluate(X_test, y_test)"
   ]
  }
 ],
 "metadata": {
  "kernelspec": {
   "display_name": "Python 3",
   "language": "python",
   "name": "python3"
  },
  "language_info": {
   "codemirror_mode": {
    "name": "ipython",
    "version": 3
   },
   "file_extension": ".py",
   "mimetype": "text/x-python",
   "name": "python",
   "nbconvert_exporter": "python",
   "pygments_lexer": "ipython3",
   "version": "3.8.8"
  }
 },
 "nbformat": 4,
 "nbformat_minor": 5
}
