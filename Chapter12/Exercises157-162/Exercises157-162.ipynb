{
 "cells": [
  {
   "cell_type": "markdown",
   "metadata": {
    "id": "Iy0K10mJs3Lc"
   },
   "source": [
    "# Regression"
   ]
  },
  {
   "cell_type": "markdown",
   "metadata": {},
   "source": [
    "The Google Colab Notebook (online version) for this Jupyter Notebook may be found at the following url: https://colab.research.google.com/drive/14FUXbsuRvz3jO6bzAm1Mgas6faJ0G61-?usp=sharing\n",
    "\n",
    "Note: There have been some difficulties installing keras on Mac Computers with the new M1 Chip. If you are having any difficulties, please use the link above."
   ]
  },
  {
   "cell_type": "markdown",
   "metadata": {},
   "source": [
    "## Exercise 157"
   ]
  },
  {
   "cell_type": "code",
   "execution_count": null,
   "metadata": {
    "id": "ElY10Fbt0Xi6"
   },
   "outputs": [],
   "source": [
    "import pandas as pd\n",
    "from sklearn.model_selection import train_test_split\n",
    "from tensorflow import keras\n",
    "from keras.models import Sequential\n",
    "from keras.layers import Dense, Dropout\n",
    "from keras.callbacks import EarlyStopping"
   ]
  },
  {
   "cell_type": "code",
   "execution_count": null,
   "metadata": {
    "colab": {
     "base_uri": "https://localhost:8080/",
     "height": 270
    },
    "id": "Rub_hMA88hWa",
    "outputId": "9ba5bcac-aab5-452a-8c4a-5ee61f341160"
   },
   "outputs": [],
   "source": [
    "url = 'https://raw.githubusercontent.com/PacktWorkshops/The-Python-Workshop/master/Datasets/HousingData.csv'\n",
    "df = pd.read_csv(url)\n",
    "df.head()"
   ]
  },
  {
   "cell_type": "code",
   "execution_count": null,
   "metadata": {
    "id": "H3NgQINR-lEl"
   },
   "outputs": [],
   "source": [
    "df = df.dropna()"
   ]
  },
  {
   "cell_type": "code",
   "execution_count": null,
   "metadata": {
    "id": "fGsi8bnq8ve5"
   },
   "outputs": [],
   "source": [
    "X = df.iloc[:, :-1]\n",
    "y = df.iloc[:, -1]\n",
    "X_train, X_test, y_train, y_test = train_test_split(X, y, random_state=2)"
   ]
  },
  {
   "cell_type": "markdown",
   "metadata": {},
   "source": [
    "## Exercise 158"
   ]
  },
  {
   "cell_type": "code",
   "execution_count": null,
   "metadata": {
    "colab": {
     "base_uri": "https://localhost:8080/"
    },
    "id": "BW_Nc9WV9a0P",
    "outputId": "d4277b0c-641c-486e-c1a4-f79850b4a68c"
   },
   "outputs": [],
   "source": [
    "# Initalize Sequential model\n",
    "model = Sequential()\n",
    "# Set number of columns\n",
    "num_cols = X_train.shape[1]\n",
    "# Create hidden layer with 20 nodes\n",
    "model.add(Dense(20, input_shape=(num_cols,), activation='relu'))\n",
    "# Create additional hidden layer with 10 nodes\n",
    "model.add(Dense(10, activation='relu'))\n",
    "# Create output layer\n",
    "model.add(Dense(1))\n",
    "# Show model summary\n",
    "print(model.summary())"
   ]
  },
  {
   "cell_type": "code",
   "execution_count": null,
   "metadata": {
    "colab": {
     "base_uri": "https://localhost:8080/"
    },
    "id": "9Nxm4BfEWf3l",
    "outputId": "493f85b8-c55a-477c-ce01-da315e567d82"
   },
   "outputs": [],
   "source": [
    "# Compile model with adam optimizer and mse loss function\n",
    "model.compile(optimizer='adam', loss='mse')\n",
    "# Fit model to data using 10 epochs\n",
    "model.fit(X_train, y_train, epochs=10)\n",
    "# Evaluate model on test data using rmse\n",
    "model.evaluate(X_test, y_test)**0.5"
   ]
  },
  {
   "cell_type": "code",
   "execution_count": null,
   "metadata": {
    "colab": {
     "base_uri": "https://localhost:8080/"
    },
    "id": "z4x4p85PaTud",
    "outputId": "e65cb9be-aaee-495d-b8c4-ff713c297810"
   },
   "outputs": [],
   "source": [
    "model.fit(X_train, y_train, epochs=50)\n",
    "model.evaluate(X_test, y_test)**0.5"
   ]
  },
  {
   "cell_type": "markdown",
   "metadata": {},
   "source": [
    "## Exercise 159"
   ]
  },
  {
   "cell_type": "code",
   "execution_count": null,
   "metadata": {
    "colab": {
     "base_uri": "https://localhost:8080/"
    },
    "id": "vxd6xLrka0LE",
    "outputId": "a0ad199c-c044-4bab-a9f9-955804cc45a0"
   },
   "outputs": [],
   "source": [
    "model = Sequential()\n",
    "model.add(Dense(24, input_shape=(num_cols,), activation='relu'))\n",
    "model.add(Dense(24, activation='relu'))\n",
    "model.add(Dense(24, activation='relu'))\n",
    "model.add(Dense(1))\n",
    "print(model.summary())\n",
    "model.compile(optimizer='adam', loss='mse')\n",
    "model.fit(X_train, y_train, epochs=50)\n",
    "model.evaluate(X_test, y_test)**0.5"
   ]
  },
  {
   "cell_type": "code",
   "execution_count": null,
   "metadata": {
    "colab": {
     "base_uri": "https://localhost:8080/"
    },
    "id": "NhlLbirL7pkh",
    "outputId": "58f92705-5ddf-4eac-cc2d-1d7cb1155a1a"
   },
   "outputs": [],
   "source": [
    "model = Sequential()\n",
    "model.add(Dense(48, input_shape=(num_cols,), activation='relu'))\n",
    "model.add(Dense(16, activation='relu'))\n",
    "model.add(Dense(1))\n",
    "print(model.summary())\n",
    "model.compile(optimizer='adam', loss='mse')\n",
    "model.fit(X_train, y_train, epochs=50)\n",
    "model.evaluate(X_test, y_test)**0.5"
   ]
  },
  {
   "cell_type": "code",
   "execution_count": null,
   "metadata": {
    "colab": {
     "base_uri": "https://localhost:8080/"
    },
    "id": "LL13o1NAcSrW",
    "outputId": "6135fe87-93b3-4f67-e019-fa8599bd5080"
   },
   "outputs": [],
   "source": [
    "from keras.models import Sequential\n",
    "from keras.layers import Dense\n",
    "num_cols = X.shape[1]\n",
    "model = Sequential()\n",
    "model.add(Dense(100, input_shape=(num_cols,), activation='relu'))\n",
    "model.add(Dense(1))\n",
    "print(model.summary())\n",
    "model.compile(optimizer='adam', loss='mse')\n",
    "model.fit(X_train, y_train, epochs=50)\n",
    "model.evaluate(X_test, y_test)**0.5"
   ]
  },
  {
   "cell_type": "markdown",
   "metadata": {},
   "source": [
    "## Exercise 160"
   ]
  },
  {
   "cell_type": "code",
   "execution_count": null,
   "metadata": {
    "colab": {
     "base_uri": "https://localhost:8080/"
    },
    "id": "m54zlI5gecfh",
    "outputId": "584715a7-2e46-498c-ad39-e3d7887072d6"
   },
   "outputs": [],
   "source": [
    "model = Sequential()\n",
    "model.add(Dense(100, input_shape=(num_cols,), activation='relu'))\n",
    "model.add(Dense(1))\n",
    "print(model.summary())\n",
    "model.compile(optimizer='adam', loss='mse')\n",
    "model.fit(X_train, y_train, epochs=500)\n",
    "model.evaluate(X_test, y_test)**0.5"
   ]
  },
  {
   "cell_type": "markdown",
   "metadata": {},
   "source": [
    "## Exercise 161"
   ]
  },
  {
   "cell_type": "code",
   "execution_count": null,
   "metadata": {
    "colab": {
     "base_uri": "https://localhost:8080/"
    },
    "id": "hBRvVVlncFTe",
    "outputId": "d361bdbc-42bc-4b18-802b-fc9e3a92963e"
   },
   "outputs": [],
   "source": [
    "from keras.callbacks import EarlyStopping\n",
    "early_stopping_monitor = EarlyStopping(patience=25)\n",
    "model = Sequential()\n",
    "model.add(Dense(100, input_shape=(num_cols,), activation='relu'))\n",
    "model.add(Dense(1))\n",
    "model.compile(optimizer='adam', loss='mse')\n",
    "model.fit(X_train, y_train, epochs=50000, validation_split=0.2, callbacks=[early_stopping_monitor])\n",
    "model.evaluate(X_test, y_test)**0.5"
   ]
  },
  {
   "cell_type": "markdown",
   "metadata": {},
   "source": [
    "## Exercise 162"
   ]
  },
  {
   "cell_type": "code",
   "execution_count": null,
   "metadata": {
    "colab": {
     "base_uri": "https://localhost:8080/"
    },
    "id": "YfkUnVrhfKDi",
    "outputId": "953e80d1-7138-448d-cb65-c49762e7f53a"
   },
   "outputs": [],
   "source": [
    "from keras.layers import Dropout\n",
    "model = Sequential()\n",
    "model.add(Dense(128, input_shape=(num_cols,), activation='relu'))\n",
    "model.add(Dropout(0.1))\n",
    "model.add(Dense(32, activation='relu'))\n",
    "model.add(Dropout(0.1))\n",
    "model.add(Dense(1))\n",
    "print(model.summary())\n",
    "model.compile(optimizer='adam', loss='mse')\n",
    "early_stopping_monitor = EarlyStopping(patience=50)\n",
    "model.fit(X_train, y_train, epochs=10000, validation_split=0.2, callbacks=[early_stopping_monitor])\n",
    "model.evaluate(X_test, y_test)**0.5"
   ]
  },
  {
   "cell_type": "code",
   "execution_count": null,
   "metadata": {
    "colab": {
     "base_uri": "https://localhost:8080/"
    },
    "id": "r_x-6mtHEZ_8",
    "outputId": "988d03e0-0e3d-4ba8-f26e-e66d055ab1d4"
   },
   "outputs": [],
   "source": [
    "from keras.layers import Dropout\n",
    "model = Sequential()\n",
    "model.add(Dense(256, input_shape=(num_cols,), activation='relu'))\n",
    "model.add(Dropout(0.5))\n",
    "model.add(Dense(64, activation='relu'))\n",
    "model.add(Dropout(0.5))\n",
    "model.add(Dense(1))\n",
    "print(model.summary())\n",
    "model.compile(optimizer='adam', loss='mse')\n",
    "early_stopping_monitor = EarlyStopping(patience=50)\n",
    "model.fit(X_train, y_train, epochs=10000, validation_split=0.2, callbacks=[early_stopping_monitor])\n",
    "model.evaluate(X_test, y_test)**0.5"
   ]
  }
 ],
 "metadata": {
  "colab": {
   "provenance": []
  },
  "kernelspec": {
   "display_name": "Python 3",
   "language": "python",
   "name": "python3"
  },
  "language_info": {
   "codemirror_mode": {
    "name": "ipython",
    "version": 3
   },
   "file_extension": ".py",
   "mimetype": "text/x-python",
   "name": "python",
   "nbconvert_exporter": "python",
   "pygments_lexer": "ipython3",
   "version": "3.8.8"
  }
 },
 "nbformat": 4,
 "nbformat_minor": 1
}
