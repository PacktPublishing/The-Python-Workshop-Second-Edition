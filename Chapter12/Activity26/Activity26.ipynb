{
 "cells": [
  {
   "cell_type": "markdown",
   "id": "de031b90",
   "metadata": {},
   "source": [
    "# Activity 26"
   ]
  },
  {
   "cell_type": "markdown",
   "id": "dd46318b",
   "metadata": {},
   "source": [
    "The Colab Notebook (online) version of the solution may be found at https://colab.research.google.com/drive/1O-F_0NwTlV3zMt6TrU4bUMeVhlsjLMY9?usp=sharing"
   ]
  },
  {
   "cell_type": "code",
   "execution_count": null,
   "id": "e99ccf9a",
   "metadata": {},
   "outputs": [],
   "source": [
    "url = 'https://media.githubusercontent.com/media/PacktPublishing/Hands-On-Gradient-Boosting-with-XGBoost-and-Scikit-learn/master/Chapter02/heart_disease.csv'\n",
    "import pandas as pd\n",
    "df = pd.read_csv(url)\n",
    "df.head()"
   ]
  },
  {
   "cell_type": "code",
   "execution_count": null,
   "id": "af3b8e3c",
   "metadata": {},
   "outputs": [],
   "source": [
    "X = df.iloc[:, :-1]\n",
    "y = df.iloc[:, -1]\n",
    "\n",
    "from sklearn.model_selection import train_test_split\n",
    "X_train, X_test, y_train, y_test = train_test_split(X, y)"
   ]
  },
  {
   "cell_type": "code",
   "execution_count": null,
   "id": "17e5b8e2",
   "metadata": {},
   "outputs": [],
   "source": [
    "from keras.models import Sequential\n",
    "from keras.layers import Dense, Dropout\n",
    "from keras.callbacks import EarlyStopping\n",
    "\n",
    "# get num cols\n",
    "num_cols = X_train.shape[1]\n",
    "\n",
    "# initialize model\n",
    "model = Sequential()\n",
    "\n",
    "# add first layer\n",
    "model.add(Dense(100, input_shape=(num_cols,),activation='relu'))\n",
    "\n",
    "# add output layer\n",
    "model.add(Dense(1, activation='sigmoid'))\n",
    "\n",
    "# show model summary\n",
    "print(model.summary())\n",
    "\n",
    "# compile model\n",
    "model.compile(optimizer='adam', loss='binary_crossentropy', metrics=['accuracy'])\n",
    "\n",
    "# add early stopping\n",
    "early_stopping_monitor = EarlyStopping(patience=10)\n",
    "\n",
    "# fit model\n",
    "model.fit(X_train, y_train, epochs=1000, validation_split=0.2,\n",
    "          callbacks=[early_stopping_monitor])\n",
    "\n",
    "# score model\n",
    "model.evaluate(X_test, y_test)"
   ]
  }
 ],
 "metadata": {
  "kernelspec": {
   "display_name": "Python 3",
   "language": "python",
   "name": "python3"
  },
  "language_info": {
   "codemirror_mode": {
    "name": "ipython",
    "version": 3
   },
   "file_extension": ".py",
   "mimetype": "text/x-python",
   "name": "python",
   "nbconvert_exporter": "python",
   "pygments_lexer": "ipython3",
   "version": "3.8.8"
  }
 },
 "nbformat": 4,
 "nbformat_minor": 5
}
