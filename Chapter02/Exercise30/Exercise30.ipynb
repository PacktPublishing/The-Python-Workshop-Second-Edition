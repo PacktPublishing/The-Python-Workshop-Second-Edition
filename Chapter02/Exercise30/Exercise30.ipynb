{
 "cells": [
  {
   "cell_type": "code",
   "execution_count": 1,
   "metadata": {},
   "outputs": [
    {
     "name": "stdout",
     "output_type": "stream",
     "text": [
      "dict_values([150, 75, 300, 220])\n",
      "[150, 75, 300, 220]\n"
     ]
    }
   ],
   "source": [
    "album_sales = {'barbara':150, \n",
    "               'aretha':75, \n",
    "               'madonna':300, \n",
    "               'mariah':220} \n",
    "print(album_sales.values())\n",
    "print(list(album_sales.values()))"
   ]
  },
  {
   "cell_type": "code",
   "execution_count": 2,
   "metadata": {},
   "outputs": [
    {
     "name": "stdout",
     "output_type": "stream",
     "text": [
      "['barbara', 'aretha', 'madonna', 'mariah']\n"
     ]
    }
   ],
   "source": [
    "print(list(album_sales.keys()))"
   ]
  },
  {
   "cell_type": "code",
   "execution_count": 3,
   "metadata": {},
   "outputs": [
    {
     "name": "stdout",
     "output_type": "stream",
     "text": [
      "('barbara', 150)\n",
      "('aretha', 75)\n",
      "('madonna', 300)\n",
      "('mariah', 220)\n"
     ]
    }
   ],
   "source": [
    "for item in album_sales.items():\n",
    "    print(item)"
   ]
  },
  {
   "cell_type": "code",
   "execution_count": null,
   "metadata": {},
   "outputs": [],
   "source": []
  }
 ],
 "metadata": {
  "kernelspec": {
   "display_name": "Python 3",
   "language": "python",
   "name": "python3"
  },
  "language_info": {
   "codemirror_mode": {
    "name": "ipython",
    "version": 3
   },
   "file_extension": ".py",
   "mimetype": "text/x-python",
   "name": "python",
   "nbconvert_exporter": "python",
   "pygments_lexer": "ipython3",
   "version": "3.8.8"
  }
 },
 "nbformat": 4,
 "nbformat_minor": 2
}
