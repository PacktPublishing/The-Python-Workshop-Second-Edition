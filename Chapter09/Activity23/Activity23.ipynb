{
 "cells": [
  {
   "cell_type": "code",
   "execution_count": 1,
   "metadata": {},
   "outputs": [],
   "source": [
    "import threading\n",
    "import queue\n",
    "import cProfile\n",
    "import itertools\n",
    "import numpy as np"
   ]
  },
  {
   "cell_type": "code",
   "execution_count": 2,
   "metadata": {},
   "outputs": [],
   "source": [
    "in_queue = queue.Queue()\n",
    "out_queue = queue.Queue()"
   ]
  },
  {
   "cell_type": "code",
   "execution_count": 3,
   "metadata": {},
   "outputs": [],
   "source": [
    "def random_number_threading():\n",
    "    while True:\n",
    "        n = in_queue.get()\n",
    "        if n == 'STOP':\n",
    "            return\n",
    "        random_numbers = np.random.rand(n)\n",
    "        out_queue.put(random_numbers)"
   ]
  },
  {
   "cell_type": "code",
   "execution_count": 4,
   "metadata": {},
   "outputs": [],
   "source": [
    "def generate_random_numbers(show_output, up_to):\n",
    "    thread = threading.Thread(target=random_number_threading)\n",
    "    thread.start()\n",
    "    for i in range(up_to):\n",
    "        in_queue.put(i)\n",
    "        random_nums = out_queue.get()\n",
    "        if show_output:\n",
    "            print(random_nums)\n",
    "    in_queue.put('STOP')\n",
    "    thread.join()"
   ]
  },
  {
   "cell_type": "code",
   "execution_count": 5,
   "metadata": {},
   "outputs": [
    {
     "name": "stdout",
     "output_type": "stream",
     "text": [
      "[]\n",
      "[0.78155881]\n",
      "[0.61671875 0.96379795]\n",
      "[0.52748128 0.69182391 0.11764897]\n",
      "[0.89243527 0.75566451 0.88089298 0.15782374]\n",
      "[0.1140009  0.25980504 0.88632411 0.08730527 0.17493792]\n",
      "[0.41370041 0.01167654 0.60758276 0.73804504 0.73648781 0.29094613]\n",
      "[0.8317736  0.57914287 0.01291246 0.61011878 0.91729392 0.50898183\n",
      " 0.24640681]\n",
      "[0.4475645  0.94036652 0.69823962 0.37459892 0.15512432 0.15115215\n",
      " 0.65882522 0.77908825]\n",
      "[0.42420881 0.7135031  0.22843178 0.20624473 0.32533328 0.86108686\n",
      " 0.46407033 0.81794371 0.98958707]\n"
     ]
    }
   ],
   "source": [
    "generate_random_numbers(True, 10)"
   ]
  },
  {
   "cell_type": "code",
   "execution_count": 6,
   "metadata": {},
   "outputs": [
    {
     "name": "stdout",
     "output_type": "stream",
     "text": [
      "         740056 function calls in 3.461 seconds\n",
      "\n",
      "   Ordered by: standard name\n",
      "\n",
      "   ncalls  tottime  percall  cumtime  percall filename:lineno(function)\n",
      "        1    0.051    0.051    3.461    3.461 <ipython-input-4-04f1b90debed>:1(generate_random_numbers)\n",
      "        1    0.000    0.000    3.461    3.461 <string>:1(<module>)\n",
      "        1    0.000    0.000    0.000    0.000 _weakrefset.py:38(_remove)\n",
      "        1    0.000    0.000    0.000    0.000 _weakrefset.py:81(add)\n",
      "    20001    0.063    0.000    0.200    0.000 queue.py:121(put)\n",
      "    20000    0.137    0.000    3.209    0.000 queue.py:153(get)\n",
      "    40000    0.019    0.000    0.026    0.000 queue.py:208(_qsize)\n",
      "    20001    0.009    0.000    0.012    0.000 queue.py:212(_put)\n",
      "    20000    0.008    0.000    0.012    0.000 queue.py:216(_get)\n",
      "        1    0.000    0.000    0.000    0.000 threading.py:1000(join)\n",
      "        1    0.000    0.000    0.000    0.000 threading.py:1038(_wait_for_tstate_lock)\n",
      "        1    0.000    0.000    0.000    0.000 threading.py:1096(daemon)\n",
      "        2    0.000    0.000    0.000    0.000 threading.py:1206(current_thread)\n",
      "        1    0.000    0.000    0.000    0.000 threading.py:216(__init__)\n",
      "    40002    0.016    0.000    0.024    0.000 threading.py:240(__enter__)\n",
      "    40002    0.021    0.000    0.028    0.000 threading.py:243(__exit__)\n",
      "    20001    0.008    0.000    0.010    0.000 threading.py:249(_release_save)\n",
      "    20001    0.014    0.000    0.023    0.000 threading.py:252(_acquire_restore)\n",
      "    60002    0.023    0.000    0.043    0.000 threading.py:255(_is_owned)\n",
      "    20001    0.074    0.000    2.941    0.000 threading.py:264(wait)\n",
      "    40001    0.088    0.000    0.165    0.000 threading.py:335(notify)\n",
      "        1    0.000    0.000    0.000    0.000 threading.py:499(__init__)\n",
      "        2    0.000    0.000    0.000    0.000 threading.py:507(is_set)\n",
      "        1    0.000    0.000    0.001    0.001 threading.py:534(wait)\n",
      "        1    0.000    0.000    0.000    0.000 threading.py:728(_newname)\n",
      "        1    0.000    0.000    0.000    0.000 threading.py:758(__init__)\n",
      "        1    0.000    0.000    0.001    0.001 threading.py:829(start)\n",
      "        1    0.000    0.000    0.000    0.000 threading.py:968(_stop)\n",
      "    20002    0.044    0.000    0.044    0.000 {built-in method _thread.allocate_lock}\n",
      "        2    0.000    0.000    0.000    0.000 {built-in method _thread.get_ident}\n",
      "        1    0.000    0.000    0.000    0.000 {built-in method _thread.start_new_thread}\n",
      "        1    0.000    0.000    3.461    3.461 {built-in method builtins.exec}\n",
      "    40000    0.007    0.000    0.007    0.000 {built-in method builtins.len}\n",
      "    40002    0.009    0.000    0.009    0.000 {method '__enter__' of '_thread.lock' objects}\n",
      "    40002    0.007    0.000    0.007    0.000 {method '__exit__' of '_thread.lock' objects}\n",
      "   120006    2.804    0.000    2.804    0.000 {method 'acquire' of '_thread.lock' objects}\n",
      "        1    0.000    0.000    0.000    0.000 {method 'add' of 'set' objects}\n",
      "    40002    0.006    0.000    0.006    0.000 {method 'append' of 'collections.deque' objects}\n",
      "        1    0.000    0.000    0.000    0.000 {method 'disable' of '_lsprof.Profiler' objects}\n",
      "        1    0.000    0.000    0.000    0.000 {method 'discard' of 'set' objects}\n",
      "        1    0.000    0.000    0.000    0.000 {method 'locked' of '_thread.lock' objects}\n",
      "    20000    0.004    0.000    0.004    0.000 {method 'popleft' of 'collections.deque' objects}\n",
      "    40003    0.044    0.000    0.044    0.000 {method 'release' of '_thread.lock' objects}\n",
      "    20001    0.005    0.000    0.005    0.000 {method 'remove' of 'collections.deque' objects}\n",
      "\n",
      "\n"
     ]
    }
   ],
   "source": [
    "cProfile.run('generate_random_numbers(False, 20000)')"
   ]
  },
  {
   "cell_type": "raw",
   "metadata": {},
   "source": []
  }
 ],
 "metadata": {
  "kernelspec": {
   "display_name": "Python 3",
   "language": "python",
   "name": "python3"
  },
  "language_info": {
   "codemirror_mode": {
    "name": "ipython",
    "version": 3
   },
   "file_extension": ".py",
   "mimetype": "text/x-python",
   "name": "python",
   "nbconvert_exporter": "python",
   "pygments_lexer": "ipython3",
   "version": "3.7.1"
  }
 },
 "nbformat": 4,
 "nbformat_minor": 2
}
