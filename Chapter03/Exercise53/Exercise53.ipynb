{
 "cells": [
  {
   "cell_type": "code",
   "execution_count": 1,
   "metadata": {},
   "outputs": [],
   "source": [
    "import time"
   ]
  },
  {
   "cell_type": "code",
   "execution_count": 2,
   "metadata": {},
   "outputs": [],
   "source": [
    "stored_results = {}\n",
    "def sum_to_n(n):\n",
    "    start_time = time.perf_counter()\n",
    "    result = 0\n",
    "    for i in reversed(range(n)):\n",
    "        if i + 1 in stored_results:\n",
    "            print('Stopping sum at %s because we have previously computed it' % str(i + 1))\n",
    "            result += stored_results[i + 1]\n",
    "            break\n",
    "        else:\n",
    "            result += i + 1\n",
    "    stored_results[n] = result\n",
    "    print(time.perf_counter() - start_time, \"seconds\")\n",
    "    return result"
   ]
  },
  {
   "cell_type": "code",
   "execution_count": 3,
   "metadata": {},
   "outputs": [
    {
     "name": "stdout",
     "output_type": "stream",
     "text": [
      "0.14801029999999998 seconds\n"
     ]
    },
    {
     "data": {
      "text/plain": [
       "500000500000"
      ]
     },
     "execution_count": 3,
     "metadata": {},
     "output_type": "execute_result"
    }
   ],
   "source": [
    "sum_to_n(1000000)"
   ]
  },
  {
   "cell_type": "code",
   "execution_count": 4,
   "metadata": {},
   "outputs": [
    {
     "name": "stdout",
     "output_type": "stream",
     "text": [
      "Stopping sum at 1000000 because we have previously computed it\n",
      "0.0002224999999999866 seconds\n"
     ]
    },
    {
     "data": {
      "text/plain": [
       "500000500000"
      ]
     },
     "execution_count": 4,
     "metadata": {},
     "output_type": "execute_result"
    }
   ],
   "source": [
    "sum_to_n(1000000)"
   ]
  },
  {
   "cell_type": "code",
   "execution_count": null,
   "metadata": {},
   "outputs": [],
   "source": []
  }
 ],
 "metadata": {
  "kernelspec": {
   "display_name": "Python 3",
   "language": "python",
   "name": "python3"
  },
  "language_info": {
   "codemirror_mode": {
    "name": "ipython",
    "version": 3
   },
   "file_extension": ".py",
   "mimetype": "text/x-python",
   "name": "python",
   "nbconvert_exporter": "python",
   "pygments_lexer": "ipython3",
   "version": "3.6.8"
  }
 },
 "nbformat": 4,
 "nbformat_minor": 2
}
