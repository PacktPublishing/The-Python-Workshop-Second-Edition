{
 "cells": [
  {
   "cell_type": "code",
   "execution_count": 2,
   "metadata": {
    "colab": {
     "base_uri": "https://localhost:8080/",
     "height": 35
    },
    "colab_type": "code",
    "id": "yo2qlEdSou5Q",
    "outputId": "bf065c6e-899e-469f-802e-dbe641551145"
   },
   "outputs": [
    {
     "name": "stdout",
     "output_type": "stream",
     "text": [
      "['Xander Harris', 'Amy Alexandrescu', 'Weifung Xu']\n"
     ]
    }
   ],
   "source": [
    "import re\n",
    "names = [\"Xander Harris\", \"Jennifer Smith\", \"Timothy Jones\", \"Amy Alexandrescu\", \"Peter Price\", \"Weifung Xu\"]\n",
    "winners = [name for name in names if re.search(\"[Xx]\", name)]\n",
    "print(winners)"
   ]
  }
 ],
 "metadata": {
  "colab": {
   "name": "Activty04.ipynb",
   "provenance": [],
   "version": "0.3.2"
  },
  "kernelspec": {
   "display_name": "Python 3",
   "language": "python",
   "name": "python3"
  }
 },
 "nbformat": 4,
 "nbformat_minor": 1
}
