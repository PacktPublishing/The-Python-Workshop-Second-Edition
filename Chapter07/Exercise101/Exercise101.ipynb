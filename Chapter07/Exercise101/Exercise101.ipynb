{
  "nbformat": 4,
  "nbformat_minor": 0,
  "metadata": {
    "colab": {
      "name": "Exercise02.ipynb",
      "version": "0.3.2",
      "provenance": []
    },
    "kernelspec": {
      "name": "python3",
      "display_name": "Python 3"
    }
  },
  "cells": [
    {
      "cell_type": "code",
      "metadata": {
        "id": "Eokj8XQ4fVvn",
        "colab_type": "code",
        "colab": {
          "base_uri": "https://localhost:8080/",
          "height": 35
        },
        "outputId": "6ecf898c-e7ab-408a-850a-b4a77599aadf"
      },
      "source": [
        "print([x*y for x in ['spam', 'eggs', 'chips'] for y in [1,2,3]])"
      ],
      "execution_count": 1,
      "outputs": [
        {
          "output_type": "stream",
          "text": [
            "['spam', 'spamspam', 'spamspamspam', 'eggs', 'eggseggs', 'eggseggseggs', 'chips', 'chipschips', 'chipschipschips']\n"
          ],
          "name": "stdout"
        }
      ]
    },
    {
      "cell_type": "code",
      "metadata": {
        "id": "QfU2sA04gCCX",
        "colab_type": "code",
        "colab": {
          "base_uri": "https://localhost:8080/",
          "height": 35
        },
        "outputId": "02058b34-f747-415f-c954-77dbaa4dcc8e"
      },
      "source": [
        "print([x*y for x in [1,2,3] for y in ['spam', 'eggs', 'chips']])"
      ],
      "execution_count": 2,
      "outputs": [
        {
          "output_type": "stream",
          "text": [
            "['spam', 'eggs', 'chips', 'spamspam', 'eggseggs', 'chipschips', 'spamspamspam', 'eggseggseggs', 'chipschipschips']\n"
          ],
          "name": "stdout"
        }
      ]
    }
  ]
}