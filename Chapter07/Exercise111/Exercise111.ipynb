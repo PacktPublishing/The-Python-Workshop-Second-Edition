{
 "nbformat": 4,
 "nbformat_minor": 0,
 "metadata": {
  "colab": {
   "name": "Exercise12.ipynb",
   "version": "0.3.2",
   "provenance": []
  },
  "kernelspec": {
   "name": "python3",
   "display_name": "Python 3"
  }
 },
 "cells": [
  {
   "cell_type": "code",
   "metadata": {
    "id": "vFgNlNean6Nr",
    "colab_type": "code",
    "colab": {
     "base_uri": "https://localhost:8080/",
     "height": 35
    },
    "outputId": "722f50c8-a333-46a3-a2ab-742df4ed1e2f"
   },
   "source": [
    "import re\n",
    "title = \"And now for something completely different\"\n",
    "pattern = \"(\\\\w)\\\\1+\"\n",
    "print(re.search(pattern, title))"
   ],
   "execution_count": 1,
   "outputs": [
    {
     "output_type": "stream",
     "text": [
      "<_sre.SRE_Match object; span=(35, 37), match='ff'>\n"
     ],
     "name": "stdout"
    }
   ]
  }
 ]
}