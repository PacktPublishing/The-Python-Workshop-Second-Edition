{
 "cells": [
  {
   "cell_type": "code",
   "execution_count": 7,
   "metadata": {},
   "outputs": [
    {
     "name": "stdout",
     "output_type": "stream",
     "text": [
      "The Norwegian Blue is a wonderful ex-parrot. This ex-parrot is notable for its exquisite plumage.\n"
     ]
    }
   ],
   "source": [
    "import re\n",
    "description = \"The Norwegian Blue is a wonderful parrot. This parrot is notable for its exquisite plumage.\"\n",
    "pattern = \"(parrot)\"\n",
    "replacement = \"ex-\\\\1\"\n",
    "print(re.sub(pattern, replacement, description))"
   ]
  },
  {
   "cell_type": "code",
   "execution_count": null,
   "metadata": {},
   "outputs": [],
   "source": []
  }
 ],
 "metadata": {
  "kernelspec": {
   "display_name": "Python 3",
   "language": "python",
   "name": "python3"
  },
  "language_info": {
   "codemirror_mode": {
    "name": "ipython",
    "version": 3
   },
   "file_extension": ".py",
   "mimetype": "text/x-python",
   "name": "python",
   "nbconvert_exporter": "python",
   "pygments_lexer": "ipython3",
   "version": "3.6.7"
  }
 },
 "nbformat": 4,
 "nbformat_minor": 2
}
