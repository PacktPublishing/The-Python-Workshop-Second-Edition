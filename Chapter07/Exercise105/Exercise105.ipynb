{
 "cells": [
  {
   "cell_type": "code",
   "execution_count": 0,
   "metadata": {
    "colab": {},
    "colab_type": "code",
    "id": "WcJfARtYi8HV"
   },
   "outputs": [],
   "source": [
    "class Interrogator:\n",
    "  def __init__(self, questions):\n",
    "    self.questions = questions\n",
    "  def __iter__(self):\n",
    "    return self.questions.__iter__()"
   ]
  },
  {
   "cell_type": "code",
   "execution_count": 2,
   "metadata": {
    "colab": {
     "base_uri": "https://localhost:8080/",
     "height": 72
    },
    "colab_type": "code",
    "id": "2NFHGIUsjGOa",
    "outputId": "5f976b40-357e-4cca-c039-5f879b2aa796"
   },
   "outputs": [
    {
     "name": "stdout",
     "output_type": "stream",
     "text": [
      "What is your name?\n",
      "What is your quest?\n",
      "What is the average airspeed velocity of an unladen swallow?\n"
     ]
    }
   ],
   "source": [
    "questions = [\"What is your name?\", \"What is your quest?\", \"What is the average airspeed velocity of an unladen swallow?\"]\n",
    "awkward_person = Interrogator(questions)\n",
    "for question in awkward_person:\n",
    "  print(question)"
   ]
  }
 ],
 "metadata": {
  "colab": {
   "name": "Exercise06.ipynb",
   "provenance": [],
   "version": "0.3.2"
  },
  "kernelspec": {
   "display_name": "Python 3",
   "language": "python",
   "name": "python3"
  },
  "language_info": {
   "codemirror_mode": {
    "name": "ipython",
    "version": 3
   },
   "file_extension": ".py",
   "mimetype": "text/x-python",
   "name": "python",
   "nbconvert_exporter": "python",
   "pygments_lexer": "ipython3",
   "version": "3.7.1"
  }
 },
 "nbformat": 4,
 "nbformat_minor": 1
}
