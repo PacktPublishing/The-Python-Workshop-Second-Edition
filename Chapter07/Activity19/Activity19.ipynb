{
 "cells": [
  {
   "cell_type": "code",
   "execution_count": 1,
   "metadata": {
    "colab": {
     "base_uri": "https://localhost:8080/",
     "height": 35
    },
    "colab_type": "code",
    "id": "W3RIld6Ch8Ms",
    "outputId": "81bfaaf7-bc38-4d25-9e5d-8fca0d58aec7"
   },
   "outputs": [],
   "source": [
    "students = [\"Vivian\", \"Rachel\", \"Tom\", \"Adrian\"]\n",
    "points = [70, 82, 80, 79]"
   ]
  },
  {
   "cell_type": "code",
   "execution_count": 2,
   "metadata": {
    "colab": {
     "base_uri": "https://localhost:8080/",
     "height": 109
    },
    "colab_type": "code",
    "id": "lnS6bGATiDlt",
    "outputId": "cabad1fb-f65e-4485-a07c-9e33c24fab9f"
   },
   "outputs": [],
   "source": [
    "scores = { students[i]:points[i] for i in range(4) }"
   ]
  },
  {
   "cell_type": "code",
   "execution_count": 3,
   "metadata": {},
   "outputs": [
    {
     "name": "stdout",
     "output_type": "stream",
     "text": [
      "{'Vivian': 70, 'Rachel': 82, 'Tom': 80, 'Adrian': 79}\n"
     ]
    }
   ],
   "source": [
    "print(scores)"
   ]
  },
  {
   "cell_type": "code",
   "execution_count": null,
   "metadata": {},
   "outputs": [],
   "source": []
  }
 ],
 "metadata": {
  "colab": {
   "name": "Activity02.ipynb",
   "provenance": [],
   "version": "0.3.2"
  },
  "kernelspec": {
   "display_name": "Python 3",
   "language": "python",
   "name": "python3"
  },
  "language_info": {
   "codemirror_mode": {
    "name": "ipython",
    "version": 3
   },
   "file_extension": ".py",
   "mimetype": "text/x-python",
   "name": "python",
   "nbconvert_exporter": "python",
   "pygments_lexer": "ipython3",
   "version": "3.7.3"
  }
 },
 "nbformat": 4,
 "nbformat_minor": 1
}
