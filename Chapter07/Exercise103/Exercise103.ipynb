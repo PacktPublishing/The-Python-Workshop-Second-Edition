{
 "nbformat": 4,
 "nbformat_minor": 0,
 "metadata": {
  "colab": {
   "name": "Exercise04.ipynb",
   "version": "0.3.2",
   "provenance": []
  },
  "kernelspec": {
   "name": "python3",
   "display_name": "Python 3"
  }
 },
 "cells": [
  {
   "cell_type": "code",
   "metadata": {
    "id": "WCHIAGNUhmDy",
    "colab_type": "code",
    "colab": {
     "base_uri": "https://localhost:8080/",
     "height": 35
    },
    "outputId": "cac1f7e9-baf2-4f94-873e-d5a838da9adf"
   },
   "source": [
    "names = [\"Eric\", \"Graham\", \"Terry\", \"John\", \"Terry\"]\n",
    "print({k:len(k) for k in [\"Eric\", \"Graham\", \"Terry\", \"John\", \"Terry\"]})"
   ],
   "execution_count": 1,
   "outputs": [
    {
     "output_type": "stream",
     "text": [
      "{'Eric': 4, 'Graham': 6, 'Terry': 5, 'John': 4}\n"
     ],
     "name": "stdout"
    }
   ]
  }
 ]
}