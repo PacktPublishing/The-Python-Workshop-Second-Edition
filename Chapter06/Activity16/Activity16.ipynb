{
 "cells": [
  {
   "cell_type": "code",
   "execution_count": 4,
   "metadata": {},
   "outputs": [
    {
     "name": "stdout",
     "output_type": "stream",
     "text": [
      "-11\n"
     ]
    }
   ],
   "source": [
    "import sys\n",
    "import subprocess\n",
    "code = 'compile(\"1\" + \"+1\" * 10 ** 6, \"string\", \"exec\")'\n",
    "result = subprocess.run([\n",
    "    sys.executable,\n",
    "    \"-c\", code\n",
    "])\n",
    "print(result.returncode)"
   ]
  }
 ],
 "metadata": {
  "kernelspec": {
   "display_name": "Python 3",
   "language": "python",
   "name": "python3"
  },
  "language_info": {
   "codemirror_mode": {
    "name": "ipython",
    "version": 3
   },
   "file_extension": ".py",
   "mimetype": "text/x-python",
   "name": "python",
   "nbconvert_exporter": "python",
   "pygments_lexer": "ipython3",
   "version": "3.7.3+"
  }
 },
 "nbformat": 4,
 "nbformat_minor": 2
}
