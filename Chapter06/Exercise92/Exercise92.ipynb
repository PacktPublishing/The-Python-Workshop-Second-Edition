{
 "cells": [
  {
   "cell_type": "code",
   "execution_count": 1,
   "metadata": {},
   "outputs": [],
   "source": [
    "import subprocess"
   ]
  },
  {
   "cell_type": "code",
   "execution_count": 6,
   "metadata": {},
   "outputs": [
    {
     "name": "stdout",
     "output_type": "stream",
     "text": [
      "SHELL_TITLE=PF11AY8S | Started: 2019-04-19T04:44:27 UTC\n",
      "TERM=xterm-color\n",
      "SHELL=/bin/bash\n",
      "HISTSIZE=100000\n",
      "SERVER=PF11AY8S\n",
      "DOCKER_HOST=localhost:2375\n",
      "OLDPWD=/home/mcorcherojim/workspace/packt-python-book/chapter-6\n",
      "NAME=PF11AY8S\n",
      "USER=mcorcherojim\n",
      "LS_COLORS=rs=0:di=01;34:ln=01;36:mh=00:pi=40;33:so=01;35:do=01;35:bd=40;33;01:cd=40;33;01:or=40;31;01:mi=00:su=37;41:sg=30;43:ca=30;41:tw=30;42:ow=34;42:st=37;44:ex=01;32:*.tar=01;31:*.tgz=01;31:*.arc=01;31:*.arj=01;31:*.taz=01;31:*.lha=01;31:*.lz4=01;31:*.lzh=01;31:*.lzma=01;31:*.tlz=01;31:*.txz=01;31:*.tzo=01;31:*.t7z=01;31:*.zip=01;31:*.z=01;31:*.Z=01;31:*.dz=01;31:*.gz=01;31:*.lrz=01;31:*.lz=01;31:*.lzo=01;31:*.xz=01;31:*.bz2=01;31:*.bz=01;31:*.tbz=01;31:*.tbz2=01;31:*.tz=01;31:*.deb=01;31:*.rpm=01;31:*.jar=01;31:*.war=01;31:*.ear=01;31:*.sar=01;31:*.rar=01;31:*.alz=01;31:*.ace=01;31:*.zoo=01;31:*.cpio=01;31:*.7z=01;31:*.rz=01;31:*.cab=01;31:*.jpg=01;35:*.jpeg=01;35:*.gif=01;35:*.bmp=01;35:*.pbm=01;35:*.pgm=01;35:*.ppm=01;35:*.tga=01;35:*.xbm=01;35:*.xpm=01;35:*.tif=01;35:*.tiff=01;35:*.png=01;35:*.svg=01;35:*.svgz=01;35:*.mng=01;35:*.pcx=01;35:*.mov=01;35:*.mpg=01;35:*.mpeg=01;35:*.m2v=01;35:*.mkv=01;35:*.webm=01;35:*.ogm=01;35:*.mp4=01;35:*.m4v=01;35:*.mp4v=01;35:*.vob=01;35:*.qt=01;35:*.nuv=01;35:*.wmv=01;35:*.asf=01;35:*.rm=01;35:*.rmvb=01;35:*.flc=01;35:*.avi=01;35:*.fli=01;35:*.flv=01;35:*.gl=01;35:*.dl=01;35:*.xcf=01;35:*.xwd=01;35:*.yuv=01;35:*.cgm=01;35:*.emf=01;35:*.ogv=01;35:*.ogx=01;35:*.aac=00;36:*.au=00;36:*.flac=00;36:*.m4a=00;36:*.mid=00;36:*.midi=00;36:*.mka=00;36:*.mp3=00;36:*.mpc=00;36:*.ogg=00;36:*.ra=00;36:*.wav=00;36:*.oga=00;36:*.opus=00;36:*.spx=00;36:*.xspf=00;36:\n",
      "HOSTTYPE=x86_64\n",
      "VIRTUAL_ENV=/mnt/c/workspace/venv/3.7\n",
      "PATH=/mnt/c/workspace/venv/3.7/lib/python3.7/site-packages:/mnt/c/workspace/venv/3.7/bin:/home/mcorcherojim/bin:/usr/local/sbin:/usr/local/bin:/usr/sbin:/usr/bin:/sbin:/bin:/usr/games:/usr/local/games:/mnt/c/ProgramData/DockerDesktop/version-bin:/mnt/c/Program Files/Docker/Docker/resources/bin:/mnt/c/Program Files (x86)/Common Files/Oracle/Java/javapath_target_136296:/mnt/c/Windows/System32:/mnt/c/Windows:/mnt/c/Windows/System32/wbem:/mnt/c/Windows/System32/WindowsPowerShell/v1.0:/mnt/c/Program Files/Git/cmd:/mnt/c/Windows/System32/OpenSSH:/mnt/c/Program Files/Intel/WiFi/bin:/mnt/c/Program Files/Common Files/Intel/WirelessCommon:/mnt/c/Users/CorcheroMario/AppData/Local/Programs/Python/Python37-32/Scripts:/mnt/c/Users/CorcheroMario/AppData/Local/Programs/Python/Python37-32:/mnt/c/Users/CorcheroMario/AppData/Local/Programs/Python/Python36-32/Scripts:/mnt/c/Users/CorcheroMario/AppData/Local/Programs/Python/Python36-32:/mnt/c/Users/CorcheroMario/AppData/Local/Microsoft/WindowsApps:/mnt/c/blp/DAPI:/mnt/c/blp/DAPI/dde:/mnt/c/Users/CorcheroMario/AppData/Local/Programs/Microsoft VS Code/bin:/mnt/c/Users/CorcheroMario/AppData/Local/hyper/app-2.1.2/resources/bin:/snap/bin\n",
      "PWD=/home/mcorcherojim/workspace/packt-python-book/chapter-6/3.subprocess\n",
      "EDITOR=vim\n",
      "LANG=en_US.UTF-8\n",
      "PS1=(3.7) \\[\u001b[1m\u001b[38;5;27m\\]\\u\\[\u001b(B\u001b[m\\] \\[\u001b[1m\u001b[37m\\]at\\[\u001b(B\u001b[m\\] \\[\u001b[1m\u001b[38;5;39m\\]\\h\\[\u001b(B\u001b[m\\] \\[\u001b[1m\u001b[37m\\]in\\[\u001b(B\u001b[m\\] \\[\u001b[1m\u001b[38;5;76m\\]\\w\\[\u001b(B\u001b[m\\]$( sexy_bash_prompt_is_on_git &&   echo -n \" \\[\u001b[1m\u001b[37m\\]on\\[\u001b(B\u001b[m\\] \" &&   echo -n \"\\[\u001b[1m\u001b[38;5;154m\\]$(sexy_bash_prompt_get_git_info)\" &&   echo -n \"\\[\u001b[1m\u001b[91m\\]$(sexy_bash_prompt_get_git_progress)\" &&   echo -n \"\\[\u001b[1m\u001b[37m\\]\")\\n\\[\u001b(B\u001b[m\\]\\[\u001b[1m\\]$ \\[\u001b(B\u001b[m\\]\n",
      "HOME=/home/mcorcherojim\n",
      "SHLVL=2\n",
      "LANGUAGE=en_US:en\n",
      "LOGNAME=mcorcherojim\n",
      "PIP_DISABLE_PIP_VERSION_CHECK=1\n",
      "LESSOPEN=| /usr/bin/lesspipe %s\n",
      "LESSCLOSE=/usr/bin/lesspipe %s %s\n",
      "_=/mnt/c/workspace/venv/3.7/bin/python3.7\n",
      "JPY_PARENT_PID=6018\n",
      "CLICOLOR=1\n",
      "PAGER=cat\n",
      "GIT_PAGER=cat\n",
      "MPLBACKEND=module://ipykernel.pylab.backend_inline\n",
      "\n"
     ]
    }
   ],
   "source": [
    "result = subprocess.run(\n",
    "    [\"env\"],\n",
    "    capture_output=True,\n",
    "    text=True\n",
    ")\n",
    "print(result.stdout)"
   ]
  },
  {
   "cell_type": "code",
   "execution_count": 7,
   "metadata": {},
   "outputs": [
    {
     "name": "stdout",
     "output_type": "stream",
     "text": [
      "SERVER=OTHER_SERVER\n",
      "\n"
     ]
    }
   ],
   "source": [
    "result = subprocess.run(\n",
    "    [\"env\"],\n",
    "    capture_output=True,\n",
    "    text=True,\n",
    "    env={\"SERVER\": \"OTHER_SERVER\"}\n",
    ")\n",
    "print(result.stdout)"
   ]
  },
  {
   "cell_type": "code",
   "execution_count": 9,
   "metadata": {},
   "outputs": [
    {
     "name": "stdout",
     "output_type": "stream",
     "text": [
      "SHELL_TITLE=PF11AY8S | Started: 2019-04-19T04:44:27 UTC\n",
      "TERM=xterm-color\n",
      "SHELL=/bin/bash\n",
      "HISTSIZE=100000\n",
      "SERVER=OTHER_SERVER\n",
      "DOCKER_HOST=localhost:2375\n",
      "OLDPWD=/home/mcorcherojim/workspace/packt-python-book/chapter-6\n",
      "NAME=PF11AY8S\n",
      "USER=mcorcherojim\n",
      "LS_COLORS=rs=0:di=01;34:ln=01;36:mh=00:pi=40;33:so=01;35:do=01;35:bd=40;33;01:cd=40;33;01:or=40;31;01:mi=00:su=37;41:sg=30;43:ca=30;41:tw=30;42:ow=34;42:st=37;44:ex=01;32:*.tar=01;31:*.tgz=01;31:*.arc=01;31:*.arj=01;31:*.taz=01;31:*.lha=01;31:*.lz4=01;31:*.lzh=01;31:*.lzma=01;31:*.tlz=01;31:*.txz=01;31:*.tzo=01;31:*.t7z=01;31:*.zip=01;31:*.z=01;31:*.Z=01;31:*.dz=01;31:*.gz=01;31:*.lrz=01;31:*.lz=01;31:*.lzo=01;31:*.xz=01;31:*.bz2=01;31:*.bz=01;31:*.tbz=01;31:*.tbz2=01;31:*.tz=01;31:*.deb=01;31:*.rpm=01;31:*.jar=01;31:*.war=01;31:*.ear=01;31:*.sar=01;31:*.rar=01;31:*.alz=01;31:*.ace=01;31:*.zoo=01;31:*.cpio=01;31:*.7z=01;31:*.rz=01;31:*.cab=01;31:*.jpg=01;35:*.jpeg=01;35:*.gif=01;35:*.bmp=01;35:*.pbm=01;35:*.pgm=01;35:*.ppm=01;35:*.tga=01;35:*.xbm=01;35:*.xpm=01;35:*.tif=01;35:*.tiff=01;35:*.png=01;35:*.svg=01;35:*.svgz=01;35:*.mng=01;35:*.pcx=01;35:*.mov=01;35:*.mpg=01;35:*.mpeg=01;35:*.m2v=01;35:*.mkv=01;35:*.webm=01;35:*.ogm=01;35:*.mp4=01;35:*.m4v=01;35:*.mp4v=01;35:*.vob=01;35:*.qt=01;35:*.nuv=01;35:*.wmv=01;35:*.asf=01;35:*.rm=01;35:*.rmvb=01;35:*.flc=01;35:*.avi=01;35:*.fli=01;35:*.flv=01;35:*.gl=01;35:*.dl=01;35:*.xcf=01;35:*.xwd=01;35:*.yuv=01;35:*.cgm=01;35:*.emf=01;35:*.ogv=01;35:*.ogx=01;35:*.aac=00;36:*.au=00;36:*.flac=00;36:*.m4a=00;36:*.mid=00;36:*.midi=00;36:*.mka=00;36:*.mp3=00;36:*.mpc=00;36:*.ogg=00;36:*.ra=00;36:*.wav=00;36:*.oga=00;36:*.opus=00;36:*.spx=00;36:*.xspf=00;36:\n",
      "HOSTTYPE=x86_64\n",
      "VIRTUAL_ENV=/mnt/c/workspace/venv/3.7\n",
      "PATH=/mnt/c/workspace/venv/3.7/lib/python3.7/site-packages:/mnt/c/workspace/venv/3.7/bin:/home/mcorcherojim/bin:/usr/local/sbin:/usr/local/bin:/usr/sbin:/usr/bin:/sbin:/bin:/usr/games:/usr/local/games:/mnt/c/ProgramData/DockerDesktop/version-bin:/mnt/c/Program Files/Docker/Docker/resources/bin:/mnt/c/Program Files (x86)/Common Files/Oracle/Java/javapath_target_136296:/mnt/c/Windows/System32:/mnt/c/Windows:/mnt/c/Windows/System32/wbem:/mnt/c/Windows/System32/WindowsPowerShell/v1.0:/mnt/c/Program Files/Git/cmd:/mnt/c/Windows/System32/OpenSSH:/mnt/c/Program Files/Intel/WiFi/bin:/mnt/c/Program Files/Common Files/Intel/WirelessCommon:/mnt/c/Users/CorcheroMario/AppData/Local/Programs/Python/Python37-32/Scripts:/mnt/c/Users/CorcheroMario/AppData/Local/Programs/Python/Python37-32:/mnt/c/Users/CorcheroMario/AppData/Local/Programs/Python/Python36-32/Scripts:/mnt/c/Users/CorcheroMario/AppData/Local/Programs/Python/Python36-32:/mnt/c/Users/CorcheroMario/AppData/Local/Microsoft/WindowsApps:/mnt/c/blp/DAPI:/mnt/c/blp/DAPI/dde:/mnt/c/Users/CorcheroMario/AppData/Local/Programs/Microsoft VS Code/bin:/mnt/c/Users/CorcheroMario/AppData/Local/hyper/app-2.1.2/resources/bin:/snap/bin\n",
      "PWD=/home/mcorcherojim/workspace/packt-python-book/chapter-6/3.subprocess\n",
      "EDITOR=vim\n",
      "LANG=en_US.UTF-8\n",
      "PS1=(3.7) \\[\u001b[1m\u001b[38;5;27m\\]\\u\\[\u001b(B\u001b[m\\] \\[\u001b[1m\u001b[37m\\]at\\[\u001b(B\u001b[m\\] \\[\u001b[1m\u001b[38;5;39m\\]\\h\\[\u001b(B\u001b[m\\] \\[\u001b[1m\u001b[37m\\]in\\[\u001b(B\u001b[m\\] \\[\u001b[1m\u001b[38;5;76m\\]\\w\\[\u001b(B\u001b[m\\]$( sexy_bash_prompt_is_on_git &&   echo -n \" \\[\u001b[1m\u001b[37m\\]on\\[\u001b(B\u001b[m\\] \" &&   echo -n \"\\[\u001b[1m\u001b[38;5;154m\\]$(sexy_bash_prompt_get_git_info)\" &&   echo -n \"\\[\u001b[1m\u001b[91m\\]$(sexy_bash_prompt_get_git_progress)\" &&   echo -n \"\\[\u001b[1m\u001b[37m\\]\")\\n\\[\u001b(B\u001b[m\\]\\[\u001b[1m\\]$ \\[\u001b(B\u001b[m\\]\n",
      "HOME=/home/mcorcherojim\n",
      "SHLVL=2\n",
      "LANGUAGE=en_US:en\n",
      "LOGNAME=mcorcherojim\n",
      "PIP_DISABLE_PIP_VERSION_CHECK=1\n",
      "LESSOPEN=| /usr/bin/lesspipe %s\n",
      "LESSCLOSE=/usr/bin/lesspipe %s %s\n",
      "_=/mnt/c/workspace/venv/3.7/bin/python3.7\n",
      "JPY_PARENT_PID=6018\n",
      "CLICOLOR=1\n",
      "PAGER=cat\n",
      "GIT_PAGER=cat\n",
      "MPLBACKEND=module://ipykernel.pylab.backend_inline\n",
      "\n"
     ]
    }
   ],
   "source": [
    "import os\n",
    "result = subprocess.run(\n",
    "    [\"env\"],\n",
    "    capture_output=True,\n",
    "    text=True,\n",
    "    env={**os.environ, \"SERVER\": \"OTHER_SERVER\"}\n",
    ")\n",
    "print(result.stdout)"
   ]
  }
 ],
 "metadata": {
  "kernelspec": {
   "display_name": "Python 3",
   "language": "python",
   "name": "python3"
  },
  "language_info": {
   "codemirror_mode": {
    "name": "ipython",
    "version": 3
   },
   "file_extension": ".py",
   "mimetype": "text/x-python",
   "name": "python",
   "nbconvert_exporter": "python",
   "pygments_lexer": "ipython3",
   "version": "3.7.3+"
  }
 },
 "nbformat": 4,
 "nbformat_minor": 2
}
