{
 "cells": [
  {
   "cell_type": "code",
   "execution_count": 2,
   "metadata": {},
   "outputs": [],
   "source": [
    "import platform\n",
    "import os\n",
    "import sys"
   ]
  },
  {
   "cell_type": "code",
   "execution_count": 5,
   "metadata": {},
   "outputs": [
    {
     "name": "stdout",
     "output_type": "stream",
     "text": [
      "Process id: 13244\n",
      "Parent process id: 8792\n"
     ]
    }
   ],
   "source": [
    "print(\"Process id:\", os.getpid())\n",
    "print(\"Parent process id:\", os.getppid())"
   ]
  },
  {
   "cell_type": "code",
   "execution_count": 7,
   "metadata": {},
   "outputs": [
    {
     "name": "stdout",
     "output_type": "stream",
     "text": [
      "Machine network name: PF11AY8S\n",
      "Python version: 3.7.0\n",
      "System: Windows\n"
     ]
    }
   ],
   "source": [
    "print(\"Machine network name:\", platform.node())\n",
    "print(\"Python version:\", platform.python_version())\n",
    "print(\"System:\", platform.system())"
   ]
  },
  {
   "cell_type": "code",
   "execution_count": 9,
   "metadata": {},
   "outputs": [
    {
     "name": "stdout",
     "output_type": "stream",
     "text": [
      "Python module lookup path: ['C:\\\\Users\\\\CorcheroMario\\\\Google Drive\\\\Packt Python Book\\\\code\\\\chapter-6\\\\2.interacting-with-the-os', 'C:\\\\Users\\\\CorcheroMario\\\\AppData\\\\Local\\\\Programs\\\\Python\\\\Python37-32\\\\python37.zip', 'C:\\\\Users\\\\CorcheroMario\\\\AppData\\\\Local\\\\Programs\\\\Python\\\\Python37-32\\\\DLLs', 'C:\\\\Users\\\\CorcheroMario\\\\AppData\\\\Local\\\\Programs\\\\Python\\\\Python37-32\\\\lib', 'C:\\\\Users\\\\CorcheroMario\\\\AppData\\\\Local\\\\Programs\\\\Python\\\\Python37-32', '', 'C:\\\\Users\\\\CorcheroMario\\\\AppData\\\\Local\\\\Programs\\\\Python\\\\Python37-32\\\\lib\\\\site-packages', 'C:\\\\Users\\\\CorcheroMario\\\\AppData\\\\Local\\\\Programs\\\\Python\\\\Python37-32\\\\lib\\\\site-packages\\\\IPython\\\\extensions', 'C:\\\\Users\\\\CorcheroMario\\\\.ipython']\n",
      "Command to run Python: ['C:\\\\Users\\\\CorcheroMario\\\\AppData\\\\Local\\\\Programs\\\\Python\\\\Python37-32\\\\lib\\\\site-packages\\\\ipykernel_launcher.py', '-f', 'C:\\\\Users\\\\CorcheroMario\\\\AppData\\\\Roaming\\\\jupyter\\\\runtime\\\\kernel-144981ac-9ffe-48a5-b338-baf7d5c824d9.json']\n"
     ]
    }
   ],
   "source": [
    "print(\"Python module lookup path:\", sys.path)\n",
    "print(\"Command to run Python:\", sys.argv)"
   ]
  },
  {
   "cell_type": "code",
   "execution_count": 13,
   "metadata": {},
   "outputs": [
    {
     "name": "stdout",
     "output_type": "stream",
     "text": [
      "USERNAME environment variable: CorcheroMario\n"
     ]
    }
   ],
   "source": [
    "print(\"USERNAME environment variable:\", os.environ[\"USERNAME\"])"
   ]
  }
 ],
 "metadata": {
  "kernelspec": {
   "display_name": "Python 3",
   "language": "python",
   "name": "python3"
  },
  "language_info": {
   "codemirror_mode": {
    "name": "ipython",
    "version": 3
   },
   "file_extension": ".py",
   "mimetype": "text/x-python",
   "name": "python",
   "nbconvert_exporter": "python",
   "pygments_lexer": "ipython3",
   "version": "3.7.3"
  }
 },
 "nbformat": 4,
 "nbformat_minor": 2
}
